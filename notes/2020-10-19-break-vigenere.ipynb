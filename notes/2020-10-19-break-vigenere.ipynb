{
 "metadata": {
  "language_info": {
   "codemirror_mode": {
    "name": "ipython",
    "version": 3
   },
   "file_extension": ".py",
   "mimetype": "text/x-python",
   "name": "python",
   "nbconvert_exporter": "python",
   "pygments_lexer": "ipython3",
   "version": "3.8.5-final"
  },
  "orig_nbformat": 2,
  "kernelspec": {
   "name": "Python 3.8.5 64-bit",
   "display_name": "Python 3.8.5 64-bit",
   "metadata": {
    "interpreter": {
     "hash": "2db524e06e9f5f4ffedc911c917cb75e12dbc923643829bf417064a77eb14d37"
    }
   }
  }
 },
 "nbformat": 4,
 "nbformat_minor": 2,
 "cells": [
  {
   "source": [
    "# 20201019 How to break vigenere cipher"
   ],
   "cell_type": "markdown",
   "metadata": {}
  },
  {
   "source": [
    "First of all, run the cell below to deal with the package issue, so we can import our code."
   ],
   "cell_type": "markdown",
   "metadata": {}
  },
  {
   "cell_type": "code",
   "execution_count": 10,
   "metadata": {},
   "outputs": [],
   "source": [
    "import sys, os\n",
    "#'/home/user/example/parent/child'\n",
    "current_path = os.path.abspath('.')\n",
    "#'/home/user/example/parent'\n",
    "parent_path = os.path.dirname(current_path)\n",
    "sys.path.append(parent_path)"
   ]
  },
  {
   "source": [
    "Get repetitions of chunks from the text"
   ],
   "cell_type": "markdown",
   "metadata": {}
  },
  {
   "cell_type": "code",
   "execution_count": 11,
   "metadata": {},
   "outputs": [
    {
     "output_type": "execute_result",
     "data": {
      "text/plain": [
       "[('ELAZ', 3), ('ELAY', 3), ('SPOI', 2)]"
      ]
     },
     "metadata": {},
     "execution_count": 11
    }
   ],
   "source": [
    "# from cyb_python.freq import Text\n",
    "\n",
    "from cyb_python.freq import Text\n",
    "\n",
    "an = Text(\"../samples/vigenere.txt\")\n",
    "\n",
    "an.chunk_freq(4)[:3]"
   ]
  },
  {
   "source": [
    "Length of chunk doesn't have to be 4. 1, 2 would be too small. 3 could be used. But I chose 4 here.\n",
    "\n",
    "Take one of the top repetitions. Those are likely to be the same plaintext encrypted with the same keys.\n",
    "\n",
    "Find the (starting) positions of the text in the entire string."
   ],
   "cell_type": "markdown",
   "metadata": {}
  },
  {
   "source": [
    "an.positions('ELAY')"
   ],
   "cell_type": "code",
   "metadata": {},
   "execution_count": 12,
   "outputs": [
    {
     "output_type": "execute_result",
     "data": {
      "text/plain": [
       "[1188, 1978, 2088, 2313, 2928, 3393]"
      ]
     },
     "metadata": {},
     "execution_count": 12
    }
   ]
  },
  {
   "source": [
    "Find the difference between some of the positions. That can tell us a likely candidate for key length."
   ],
   "cell_type": "markdown",
   "metadata": {}
  },
  {
   "source": [
    "print(2313 - 1978)\n",
    "print(2088 - 1978)\n",
    "print(2088 - 1188)"
   ],
   "cell_type": "code",
   "metadata": {},
   "execution_count": 13,
   "outputs": [
    {
     "output_type": "stream",
     "name": "stdout",
     "text": [
      "335\n110\n900\n"
     ]
    }
   ]
  },
  {
   "source": [
    "They all seem to share a common factor of 5. So 5 is a possible key length.\n",
    "\n",
    "If that's the case, every 5 letter, we repeat the key. \n",
    "\n",
    "So put all text into 5 groups, each group will text that are 5 apart from each other.\n",
    "\n",
    "Then do frequency analysis for each group so we know the letter it was shifted by: 0 -> `A`, 1 -> `B`, and so on."
   ],
   "cell_type": "markdown",
   "metadata": {}
  },
  {
   "cell_type": "code",
   "execution_count": 16,
   "metadata": {},
   "outputs": [
    {
     "output_type": "stream",
     "name": "stdout",
     "text": [
      "W\nH\nA\nL\nE\n"
     ]
    }
   ],
   "source": [
    "for i in range(0, 5):\n",
    "    highest = Text.freq(an.text[i::5])[0][0]\n",
    "    key_char = chr((ord(highest) - ord('E')) % 26 + ord('A'))\n",
    "    print(key_char)"
   ]
  },
  {
   "source": [
    "So for the first group, we got `W`. Second group, `H`. Then, `A`, `L`, `E`. So, the great albino `WHALE`! \n",
    "\n",
    "That's a possible key. Let's try decrypting it with our tools."
   ],
   "cell_type": "markdown",
   "metadata": {}
  },
  {
   "cell_type": "code",
   "execution_count": 17,
   "metadata": {},
   "outputs": [
    {
     "output_type": "execute_result",
     "data": {
      "text/plain": [
       "'CALLMEISHMAELSOMEYEARSAGONEVERMINDHOWLONGPRECISELYHAVINGLITTLEORNOMONEYINMYPURSEANDNOTHINGPARTICULARTOINTERESTMEONSHOREITHOUGHTIWOULDSAILABOUTALITTLEANDSEETHEWATERYPARTOFTHEWORLDITISAWAYIHAVEOFDRIVINGOFFTHESPLEENANDREGULATINGTHECIRCULATIONWHENEVERIFINDMYSELFGROWINGGRIMABOUTTHEMOUTHWHENEVERITISADAMPDRIZZLYNOVEMBERINMYSOULWHENEVERIFINDMYSELFINVOLUNTARILYPAUSINGBEFORECOFFINWAREHOUSESANDBRINGINGUPTHEREAROFEVERYFUNERALIMEETANDESPECIALLYWHENEVERMYHYPOSGETSUCHANUPPERHANDOFMETHATITREQUIRESASTRONGMORALPRINCIPLETOPREVENTMEFROMDELIBERATELYSTEPPINGINTOTHESTREETANDMETHODICALLYKNOCKINGPEOPLESHATSOFFTHENIACCOUNTITHIGHTIMETOGETTOSEAASSOONASICANTHISISMYSUBSTITUTEFORPISTOLANDBALLWITHAPHILOSOPHICALFLOURISHCATOTHROWSHIMSELFUPONHISSWORDIQUIETLYTAKETOTHESHIPTHEREISNOTHINGSURPRISINGINTHISIFTHEYBUTKNEWITALMOSTALLMENINTHEIRDEGREESOMETIMEOROTHERCHERISHVERYNEARLYTHESAMEFEELINGSTOWARDSTHEOCEANWITHMETHERENOWISYOURINSULARCITYOFTHEMANHATTOESBELTEDROUNDBYWHARVESASINDIANISLESBYCORALREEFSCOMMERCESURROUNDSITWITHHERSURFRIGHTANDLEFTTHESTREETSTAKEYOUWATERWARDITSEXTREMEDOWNTOWNISTHEBATTERYWHERETHATNOBLEMOLEISWASHEDBYWAVESANDCOOLEDBYBREEZESWHICHAFEWHOURSPREVIOUSWEREOUTOFSIGHTOFLANDLOOKATTHECROWDSOFWATERGAZERSTHERECIRCUMAMBULATETHECITYOFADREAMYSABBATHAFTERNOONGOFROMCORLEARSHOOKTOCOENTIESSLIPANDFROMTHENCEBYWHITEHALLNORTHWARDWHATDOYOUSEEPOSTEDLIKESILENTSENTINELSALLAROUNDTHETOWNSTANDTHOUSANDSUPONTHOUSANDSOFMORTALMENFIXEDINOCEANREVERIESSOMELEANINGAGAINSTTHESPILESSOMESEATEDUPONTHEPIERHEADSSOMELOOKINGOVERTHEBULWARKSOFSHIPSFROMCHINASOMEHIGHALOFTINTHERIGGINGASIFSTRIVINGTOGETASTILLBETTERSEAWARDPEEPBUTTHESEAREALLLANDSMENOFWEEKDAYSPENTUPINLATHANDPLASTERTIEDTOCOUNTERSNAILEDTOBENCHESCLINCHEDTODESKSHOWTHENISTHISARETHEGREENFIELDSGONEWHATDOTHEYHEREBUTLOOKHERECOMEMORECROWDSPACINGSTRAIGHTFORTHEWATERANDSEEMINGLYBOUNDFORADIVESTRANGENOTHINGWILLCONTENTTHEMBUTTHEEXTREMESTLIMITOFTHELANDLOITERINGUNDERTHESHADYLEEOFYONDERWAREHOUSESWILLNOTSUFFICENOTHEYMUSTGETJUSTASNIGHTHEWATERASTHEYPOSSIBLYCANWITHOUTFALLINGINANDTHERETHEYSTANDMILESOFTHEMLEAGUESINLANDERSALLTHEYCOMEFROMLANESANDALLEYSSTREETSANDAVENUESNORTHEASTSOUTHANDWESTYETHERETHEYALLUNITETELLMEDOESTHEMAGNETICVIRTUEOFTHENEEDLESOFTHECOMPASSESOFALLTHOSESHIPSATTRACTTHEMTHITHERONCEMORESAYYOUAREINTHECOUNTRYINSOMEHIGHLANDOFLAKESTAKEALMOSTANYPATHYOUPLEASEANDTENTOONEITCARRIESYOUDOWNINADALEANDLEAVESYOUTHEREBYAPOOLINTHESTREAMTHEREISMAGICINITLETTHEMOSTABSENTMINDEDOFMENBEPLUNGEDINHISDEEPESTREVERIESSTANDTHATMANONHISLEGSSETHISFEETAGOINGANDHEWILLINFALLIBLYLEADYOUTOWATERIFWATERTHEREBEINALLTHATREGIONSHOULDYOUEVERBEATHIRSTINTHEGREATAMERICANDESERTTRYTHISEXPERIMENTIFYOURCARAVANHAPPENTOBESUPPLIEDWITHAMETAPHYSICALPROFESSORYESASEVERYONEKNOWSMEDITATIONANDWATERAREWEDDEDFOREVERBUTHEREISANARTISTHEDESIRESTOPAINTYOUTHEDREAMIESTSHADIESTQUIETESTMOSTENCHANTINGBITOFROMANTICLANDSCAPEINALLTHEVALLEYOFTHESACOWHATISTHECHIEFELEMENTHEEMPLOYSTHERESTANDHISTREESEACHWITHAHOLLOWTRUNKASIFAHERMITANDACRUCIFIXWEREWITHINANDHERESLEEPSHISMEADOWANDTHERESLEEPHISCATTLEANDUPFROMYONDERCOTTAGEGOESASLEEPYSMOKEDEEPINTODISTANTWOODLANDSWINDSAMAZYWAYREACHINGTOOVERLAPPINGSPURSOFMOUNTAINSBATHEDINTHEIRHILLSIDEBLUEBUTTHOUGHTHEPICTURELIESTHUSTRANCEDANDTHOUGHTHISPINETREESHAKESDOWNITSSIGHSLIKELEAVESUPONTHISSHEPHERDSHEADYETALLWEREVAINUNLESSTHESHEPHERDSEYEWEREFIXEDUPONTHEMAGICSTREAMBEFOREHIMGOVISITTHEPRAIRIESINJUNEWHENFORSCORESONSCORESOFMILESYOUWADEKNEEDEEPAMONGTIGERLILIESWHATISTHEONECHARMWANTINGWATERTHEREISNOTADROPOFWATERTHEREWERENIAGARABUTACATARACTOFSANDWOULDYOUTRAVELYOURTHOUSANDMILESTOSEEITWHYDIDTHEPOORPOETOFTENNESSEEUPONSUDDENLYRECEIVINGTWOHANDFULSOFSILVERDELIBERATEWHETHERTOBUYHIMACOATWHICHHESADLYNEEDEDORINVESTHISMONEYINAPEDESTRIANTRIPTOROCKAWAYBEACHWHYISALMOSTEVERYROBUSTHEALTHYBOYWITHAROBUSTHEALTHYSOULINHIMATSOMETIMEOROTHERCRAZYTOGOTOSEAWHYUPONYOURFIRSTVOYAGEASAPASSENGERDIDYOUYOURSELFFEELSUCHAMYSTICALVIBRATIONWHENFIRSTTOLDTHATYOUANDYOURSHIPWERENOWOUTOFSIGHTOFLANDWHYDIDTHEOLDPERSIANSHOLDTHESEAHOLYWHYDIDTHEGREEKSGIVEITASEPARATEDEITYANDOWNBROTHEROFJOVESURELYALLTHISISNOTWITHOUTMEANINGANDSTILLDEEPERTHEMEANINGOFTHATSTORYOFNARCISSUSWHOBECAUSEHECOULDNOTGRASPTHETORMENTINGMILDIMAGEHESAWINTHEFOUNTAINPLUNGEDINTOITANDWASDROWNEDBUTTHATSAMEIMAGEWEOURSELVESSEEINALLRIVERSANDOCEANSITISTHEIMAGEOFTHEUNGRASPABLEPHANTOMOFLIFEANDTHISISTHEKEYTOITALL'"
      ]
     },
     "metadata": {},
     "execution_count": 17
    }
   ],
   "source": [
    "from cyb_python import vigenere\n",
    "vigenere.decrypt(an.text, \"WHALE\")"
   ]
  },
  {
   "source": [
    "Moby Dick, or The Whale!"
   ],
   "cell_type": "markdown",
   "metadata": {}
  }
 ]
}